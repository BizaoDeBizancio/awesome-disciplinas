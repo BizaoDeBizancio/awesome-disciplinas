{
 "cells": [
  {
   "cell_type": "markdown",
   "metadata": {},
   "source": [
    "# Sistemas Inteligentes\n",
    "\n",
    "## Exercício Computacional 2 - Classificação\n",
    "\n",
    "Preencha todas as células adequadamente e responda todas as perguntas de forma completa e elaborada."
   ]
  },
  {
   "cell_type": "markdown",
   "metadata": {},
   "source": [
    "### Identificação do Aluno"
   ]
  },
  {
   "cell_type": "markdown",
   "metadata": {},
   "source": [
    "#### Nome Completo"
   ]
  },
  {
   "cell_type": "markdown",
   "metadata": {},
   "source": [
    "Luana Ferreira do Nascimento"
   ]
  },
  {
   "cell_type": "markdown",
   "metadata": {},
   "source": [
    "#### RA"
   ]
  },
  {
   "cell_type": "markdown",
   "metadata": {},
   "source": [
    "11090115"
   ]
  },
  {
   "cell_type": "markdown",
   "metadata": {},
   "source": [
    "### Instruções\n",
    "\n",
    "Treine e teste um classificador à sua escolha utilizando a base de dados **Olivetti Faces** (veja as referências).\n",
    "\n",
    "Faça um caso com com *k-Fold* e um caso de forma direta, ou seja, utilizando o *train_test_split*.\n",
    "\n",
    "Exiba a acurácia e a *Confusion Matrix*, então discuta sobre o desempenho do classificador para os dois casos.\n",
    "\n",
    "Entre as células de códigos, insira células de tipo *Markdown* para fornecer explicações sobre os passos realizados; não insira apenas códigos \"soltos\" sem explicação.\n",
    "\n",
    "Dica: desta vez, estamos lidando com uma quantidade relativamente grande de classes, então pode ser interessante exibir a *Confusion Matrix* utilizando escala de cinza para representar os valores de cada célula da matriz; para fazer isso, prefira utilizar a função **imshow** com o mapa de cores (argumento **cmap**) do tipo **'Greys'**.\n",
    "\n",
    "**EXTRA**: tente fazer um caso com *Bootstrap* em vez de *k-Fold*, então comente sobre o método e os resultados."
   ]
  },
  {
   "cell_type": "markdown",
   "metadata": {},
   "source": [
    "## Desenvolvimento"
   ]
  },
  {
   "cell_type": "code",
   "execution_count": 49,
   "metadata": {},
   "outputs": [],
   "source": [
    "#faz as importações\n",
    "import numpy as np\n",
    "import matplotlib.pyplot as plt\n",
    "import argparse\n",
    "\n",
    "from sklearn.datasets import fetch_olivetti_faces\n",
    "from sklearn.utils.validation import check_random_state\n",
    "\n",
    "from sklearn.neighbors import KNeighborsClassifier\n",
    "\n",
    "from sklearn.model_selection import KFold\n",
    "from sklearn.model_selection import train_test_split\n",
    "\n",
    "from sklearn.metrics import accuracy_score as accuracy_score\n",
    "from sklearn.metrics import confusion_matrix as confusion_matrix\n",
    "from sklearn.metrics import f1_score\n",
    "\n",
    "import matplotlib.pyplot as plt\n",
    "import matplotlib.cm as cm\n",
    "import matplotlib.colors as colors\n",
    "import matplotlib.patches as patches"
   ]
  },
  {
   "cell_type": "code",
   "execution_count": 45,
   "metadata": {},
   "outputs": [],
   "source": [
    "# cria uma função que exibe a matriz de confusão em escala de cinza\n",
    "\n",
    "LABEL_SIZE = 14\n",
    "VALUE_SIZE = 12\n",
    "LABEL_ROTATION = 0\n",
    "\n",
    "# Plot the matrix: show and save as image\n",
    "def plotMatrix(cm):\n",
    "    print(\"> Começando a plotar matriz\")\n",
    "    fig = plt.figure()\n",
    "\n",
    "    # COLORS\n",
    "    # ======\n",
    "    # Discrete color map: make a color map of fixed colors\n",
    "    # [0.1, 0.2, 0.3, 0.4, 0.5, 0.6, 0.7, 0.8, 0.9, 1]\n",
    "    color_list = []\n",
    "    for i in range(10):\n",
    "        i += 1\n",
    "        color_list.append((i*0.1, i*0.1, i*0.1))\n",
    "    # Reversed gray scale (black for 100, white for 0)\n",
    "    color_map = colors.ListedColormap(list(reversed(color_list)))\n",
    "    # Set color bounds: [0,10,20,30,40,50,60,70,80,90,100]\n",
    "    bounds=range(0, 110, 10)\n",
    "    norm = colors.BoundaryNorm(bounds, color_map.N)\n",
    "\n",
    "    # Plot matrix (convert numpy to list) and set Z max to 100\n",
    "    plt.imshow(cm, interpolation='nearest', cmap=color_map, vmax=100)\n",
    "    plt.title(\"teste\")\n",
    "    plt.colorbar()\n",
    "\n",
    "    # LABELS\n",
    "    # ======\n",
    "    # Setup labels (same for both axises)\n",
    "    plt.ylabel('True labels')\n",
    "    plt.xlabel('Predicted labels')\n",
    "\n",
    "    # Save as an image\n",
    "    # Higher DPI to avoid mis-alignment\n",
    "    plt.savefig(\"teste\", dpi=240)\n",
    "    # Show the plot in a window\n",
    "    plt.show()\n"
   ]
  },
  {
   "cell_type": "code",
   "execution_count": 52,
   "metadata": {},
   "outputs": [],
   "source": [
    "# carrega o dataset\n",
    "data = fetch_olivetti_faces()\n",
    "X = data.data\n",
    "y = data.target"
   ]
  },
  {
   "cell_type": "code",
   "execution_count": 21,
   "metadata": {},
   "outputs": [],
   "source": [
    "#separa o treinamento com o split\n",
    "X_train, X_test, y_train, y_test = train_test_split(X, y, shuffle = True)"
   ]
  },
  {
   "cell_type": "code",
   "execution_count": 46,
   "metadata": {},
   "outputs": [
    {
     "name": "stdout",
     "output_type": "stream",
     "text": [
      "0.706766917293233\n",
      "[[3 0 0 ... 0 0 0]\n",
      " [0 2 0 ... 0 0 0]\n",
      " [0 0 2 ... 0 0 1]\n",
      " ...\n",
      " [0 0 0 ... 2 0 0]\n",
      " [0 0 0 ... 0 2 0]\n",
      " [0 0 0 ... 1 0 0]]\n",
      "[[ 75   0   0 ...   0   0   0]\n",
      " [  0 100   0 ...   0   0   0]\n",
      " [  0   0  50 ...   0   0  25]\n",
      " ...\n",
      " [  0   0   0 ... 100   0   0]\n",
      " [  0   0   0 ...   0 100   0]\n",
      " [  0   0   0 ...  33   0   0]]\n",
      "> Começando a plotar matriz\n"
     ]
    },
    {
     "data": {
      "image/png": "[encoded data removed]",
      "text/plain": [
       "<Figure size 432x288 with 2 Axes>"
      ]
     },
     "metadata": {
      "needs_background": "light"
     },
     "output_type": "display_data"
    }
   ],
   "source": [
    "#instancia e treina o algoritmo com o split\n",
    "knn = KNeighborsClassifier()\n",
    "\n",
    "# treina ele\n",
    "knn.fit(X_train, y_train)\n",
    "\n",
    "# captura o que ele ta tentando saber o que é\n",
    "y_pred = knn.predict(X_test)\n",
    "\n",
    "# verifica como foi o treinamento\n",
    "print(accuracy_score(y_test, y_pred))\n",
    "\n",
    "#verifica como ficou a matriz de confusão\n",
    "cm = confusion_matrix(y_test, y_pred)\n",
    "print(cm)\n",
    "\n",
    "# transforma em porcentagem\n",
    "for row in range(0, len(cm)):\n",
    "    rowSum = np.sum(cm[row])\n",
    "    cm[row] = cm[row] / rowSum * 100\n",
    "print(cm) \n",
    "\n",
    "# Plota a matriz como imagem\n",
    "plotMatrix(cm)"
   ]
  },
  {
   "cell_type": "code",
   "execution_count": 53,
   "metadata": {},
   "outputs": [
    {
     "name": "stdout",
     "output_type": "stream",
     "text": [
      "\n",
      "\n",
      "TRAIN: 1 TEST: 1\n",
      "0.746268656716418\n",
      "[[2 0 0 ... 0 0 0]\n",
      " [0 5 0 ... 0 0 0]\n",
      " [0 0 2 ... 0 0 0]\n",
      " ...\n",
      " [0 0 0 ... 4 0 0]\n",
      " [0 0 0 ... 0 4 0]\n",
      " [1 0 0 ... 0 0 1]]\n",
      "[[ 66   0   0 ...   0   0   0]\n",
      " [  0 100   0 ...   0   0   0]\n",
      " [  0   0  66 ...   0   0   0]\n",
      " ...\n",
      " [  0   0   0 ... 100   0   0]\n",
      " [  0   0   0 ...   0  66   0]\n",
      " [ 20   0   0 ...   0   0  20]]\n",
      "> Começando a plotar matriz\n"
     ]
    },
    {
     "data": {
      "image/png": "[encoded data removed]",
      "text/plain": [
       "<Figure size 432x288 with 2 Axes>"
      ]
     },
     "metadata": {
      "needs_background": "light"
     },
     "output_type": "display_data"
    },
    {
     "name": "stdout",
     "output_type": "stream",
     "text": [
      "0.7538610001110001\n",
      "\n",
      "\n",
      "TRAIN: 2 TEST: 2\n",
      "0.7443609022556391\n",
      "[[1 0 0 ... 0 0 0]\n",
      " [0 3 0 ... 0 0 0]\n",
      " [0 0 3 ... 0 0 0]\n",
      " ...\n",
      " [0 0 0 ... 4 0 0]\n",
      " [0 0 0 ... 0 2 0]\n",
      " [0 0 0 ... 1 0 0]]\n",
      "[[ 33   0   0 ...   0   0   0]\n",
      " [  0 100   0 ...   0   0   0]\n",
      " [  0   0 100 ...   0   0   0]\n",
      " ...\n",
      " [  0   0   0 ... 100   0   0]\n",
      " [  0   0   0 ...   0 100   0]\n",
      " [  0   0   0 ...  50   0   0]]\n",
      "> Começando a plotar matriz\n"
     ]
    },
    {
     "data": {
      "image/png": "[encoded data removed]",
      "text/plain": [
       "<Figure size 432x288 with 2 Axes>"
      ]
     },
     "metadata": {
      "needs_background": "light"
     },
     "output_type": "display_data"
    },
    {
     "name": "stderr",
     "output_type": "stream",
     "text": [
      "c:\\users\\luana\\appdata\\local\\programs\\python\\python37\\lib\\site-packages\\sklearn\\metrics\\classification.py:1143: UndefinedMetricWarning: F-score is ill-defined and being set to 0.0 in labels with no predicted samples.\n",
      "  'precision', 'predicted', average, warn_for)\n"
     ]
    },
    {
     "name": "stdout",
     "output_type": "stream",
     "text": [
      "0.731751443001443\n",
      "\n",
      "\n",
      "TRAIN: 3 TEST: 3\n",
      "0.706766917293233\n",
      "[[3 0 0 ... 0 0 0]\n",
      " [0 2 0 ... 0 0 0]\n",
      " [0 0 2 ... 0 0 1]\n",
      " ...\n",
      " [0 0 0 ... 2 0 0]\n",
      " [0 0 0 ... 0 2 0]\n",
      " [0 0 0 ... 1 0 0]]\n",
      "[[ 75   0   0 ...   0   0   0]\n",
      " [  0 100   0 ...   0   0   0]\n",
      " [  0   0  50 ...   0   0  25]\n",
      " ...\n",
      " [  0   0   0 ... 100   0   0]\n",
      " [  0   0   0 ...   0 100   0]\n",
      " [  0   0   0 ...  33   0   0]]\n",
      "> Começando a plotar matriz\n"
     ]
    },
    {
     "data": {
      "image/png": "[encoded data removed]",
      "text/plain": [
       "<Figure size 432x288 with 2 Axes>"
      ]
     },
     "metadata": {
      "needs_background": "light"
     },
     "output_type": "display_data"
    },
    {
     "name": "stdout",
     "output_type": "stream",
     "text": [
      "0.728743894993895\n"
     ]
    },
    {
     "name": "stderr",
     "output_type": "stream",
     "text": [
      "c:\\users\\luana\\appdata\\local\\programs\\python\\python37\\lib\\site-packages\\sklearn\\metrics\\classification.py:1143: UndefinedMetricWarning: F-score is ill-defined and being set to 0.0 in labels with no predicted samples.\n",
      "  'precision', 'predicted', average, warn_for)\n"
     ]
    }
   ],
   "source": [
    "#prepara o treinamento de kfold\n",
    "kf = KFold(n_splits=3, random_state=True, shuffle = True)\n",
    "\n",
    "i = 1\n",
    "\n",
    "# passa por cada grupo que ele treinou\n",
    "for train_index, test_index in kf.split(X):\n",
    "    print(\"\\n\\nTRAIN:\", i, \"TEST:\", i)\n",
    "    \n",
    "    # captura os dados de treinamento\n",
    "    X_train, X_test = X[train_index], X[test_index]\n",
    "    y_train, y_test = y[train_index], y[test_index]\n",
    "    \n",
    "    #instancia e treina o algoritmo\n",
    "    knn = KNeighborsClassifier()\n",
    "\n",
    "    # treina ele\n",
    "    knn.fit(X_train, y_train)\n",
    "\n",
    "    # captura o que ele ta tentando saber o que é\n",
    "    y_pred = knn.predict(X_test)\n",
    "\n",
    "    # verifica como foi o treinamento\n",
    "    print(accuracy_score(y_test, y_pred))\n",
    "    \n",
    "    #verifica como ficou a matriz de confusão\n",
    "    cm = confusion_matrix(y_test, y_pred)\n",
    "    print(cm)\n",
    "\n",
    "    # transforma em porcentagem\n",
    "    for row in range(0, len(cm)):\n",
    "        rowSum = np.sum(cm[row])\n",
    "        cm[row] = cm[row] / rowSum * 100\n",
    "    print(cm) \n",
    "\n",
    "    # Plota a matriz como imagem\n",
    "    plotMatrix(cm)\n",
    "    \n",
    "    print(f1_score(y_test, y_pred, average='macro'))\n",
    "    \n",
    "    i = i + 1"
   ]
  },
  {
   "cell_type": "markdown",
   "metadata": {},
   "source": [
    "## Questões"
   ]
  },
  {
   "cell_type": "markdown",
   "metadata": {},
   "source": [
    "### 1. O classificador escolhido por você obteve um bom desempenho em sua opinião? Por que?"
   ]
  },
  {
   "cell_type": "markdown",
   "metadata": {},
   "source": [
    "Não, em alguns pontos da matriz de confusão ele estava errando sempre."
   ]
  },
  {
   "cell_type": "markdown",
   "metadata": {},
   "source": [
    "### 2. Além da acurácia e da matriz de confusão, quais métricas e recursos poderiam ser utilizados para avaliar o seu classificador?"
   ]
  },
  {
   "cell_type": "markdown",
   "metadata": {},
   "source": [
    "Precisão, F1"
   ]
  },
  {
   "cell_type": "markdown",
   "metadata": {},
   "source": [
    "### 3. O seu classificador obteve um desempenho notoriamente superior ou inferior para alguma das classes? Para qual(is)? Por que você acredita que isso ocorreu?"
   ]
  },
  {
   "cell_type": "markdown",
   "metadata": {},
   "source": [
    "Não, em todos foi mais ou menos o mesmo resultado, provavelmente pois a forma de classificação que eu usei não foi muito boa."
   ]
  },
  {
   "cell_type": "markdown",
   "metadata": {},
   "source": [
    "### 4. O que se poderia fazer para melhorar o desempenho de seu classificador?"
   ]
  },
  {
   "cell_type": "markdown",
   "metadata": {},
   "source": [
    "Usar uma decision tree"
   ]
  },
  {
   "cell_type": "markdown",
   "metadata": {},
   "source": [
    "### 5. Se fosse utilizada apenas metade da base de dados deste exercício em vez de ela toda, mas mantendo as proporções para os dados de treinamento e teste, os resultados sofreriam alguma mudança significativa? Se sim, quais e em qual intensidade?"
   ]
  },
  {
   "cell_type": "markdown",
   "metadata": {},
   "source": [
    "Sofreriam mudanças de aproximadamente 5% na acurácia, como o KFold pode nos mostrar."
   ]
  },
  {
   "cell_type": "markdown",
   "metadata": {},
   "source": [
    "### 6. Para quê servem métodos como k-Fold e Bootstrap? Você observou alguma mudança significativa por conta de sua utilização? Se sim, qual? E a quê se deve isso?"
   ]
  },
  {
   "cell_type": "markdown",
   "metadata": {},
   "source": [
    "Servem para separar a parte do dataset que será utilizada para treinar e para testar. Faz diferença pois podemos cair em uma questão de sorte e obter tanto um algoritmo treinado erroneamente quanto um teste de precisão que não reflete a precisão real por deficiencia na base de dados"
   ]
  },
  {
   "cell_type": "markdown",
   "metadata": {},
   "source": [
    "## Referências"
   ]
  },
  {
   "cell_type": "markdown",
   "metadata": {},
   "source": [
    "[Scikit-Learn - Datasets - Olivetti Faces](http://scikit-learn.org/stable/modules/generated/sklearn.datasets.fetch_olivetti_faces.html)\n",
    "\n",
    "[Matplotlib - Pyplot](https://matplotlib.org/api/pyplot_summary.html)\n",
    "\n",
    "[Numpy](https://docs.scipy.org/doc/numpy/reference/)\n",
    "\n",
    "[Scikit-Learn - Train, Test and Split](http://scikit-learn.org/stable/modules/generated/sklearn.model_selection.train_test_split.html)\n",
    "\n",
    "[Scikit-Learn - KFold](http://scikit-learn.org/stable/modules/generated/sklearn.model_selection.KFold.html#sklearn.model_selection.KFold)\n",
    "\n",
    "[Scikit-Learn - Resample (Bootstrap)](http://scikit-learn.org/stable/modules/generated/sklearn.utils.resample.html)\n",
    "\n",
    "[Scikit-Learn - KNeighborsClassifier](http://scikit-learn.org/stable/modules/generated/sklearn.neighbors.KNeighborsClassifier.html)\n",
    "\n",
    "[Scikit-Learn - DecisionTreeClassifier](http://scikit-learn.org/stable/modules/generated/sklearn.tree.DecisionTreeClassifier.html)\n",
    "\n",
    "[Scikit-Learn - LinearDiscriminantAnalysis](http://scikit-learn.org/stable/modules/generated/sklearn.discriminant_analysis.LinearDiscriminantAnalysis.html)\n",
    "\n",
    "[Scikit-Learn - LinearSVC](http://scikit-learn.org/stable/modules/generated/sklearn.svm.LinearSVC.html#sklearn.svm.LinearSVC)\n",
    "\n",
    "[Scikit-Learn - MLPClassifier](http://scikit-learn.org/stable/modules/generated/sklearn.neural_network.MLPClassifier.html#sklearn.neural_network.MLPClassifier)\n",
    "\n",
    "[Scikit-Learn - Accuracy Score](http://scikit-learn.org/stable/modules/generated/sklearn.metrics.accuracy_score.html)\n",
    "\n",
    "[Scikit-Learn - Confusion Matrix](http://scikit-learn.org/stable/modules/generated/sklearn.metrics.confusion_matrix.html)"
   ]
  }
 ],
 "metadata": {
  "kernelspec": {
   "display_name": "Python 3",
   "language": "python",
   "name": "python3"
  },
  "language_info": {
   "codemirror_mode": {
    "name": "ipython",
    "version": 3
   },
   "file_extension": ".py",
   "mimetype": "text/x-python",
   "name": "python",
   "nbconvert_exporter": "python",
   "pygments_lexer": "ipython3",
   "version": "3.7.0"
  }
 },
 "nbformat": 4,
 "nbformat_minor": 2
}
